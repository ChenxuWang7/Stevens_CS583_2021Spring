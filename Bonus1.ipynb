{
 "cells": [
  {
   "cell_type": "markdown",
   "metadata": {},
   "source": [
    "# Bonus1: Parallel Algorithms\n",
    "\n",
    "### Name: [Chenxu Wang]\n"
   ]
  },
  {
   "cell_type": "markdown",
   "metadata": {},
   "source": [
    "## 0. You will do the following:\n",
    "\n",
    "1. Read the lecture note: [click here](https://github.com/wangshusen/DeepLearning/blob/master/LectureNotes/Parallel/Parallel.pdf)\n",
    "\n",
    "2. Implement federated averaging or decentralized optimization.\n",
    "\n",
    "3. Plot the convergence curve. (The x-axis can be ```number of epochs``` or ```number of communication```. You must make sure the label is correct.)\n",
    "\n",
    "4. Convert the .IPYNB file to .HTML file.\n",
    "\n",
    "    * The HTML file must contain **the code** and **the output after execution**.\n",
    "    \n",
    "5. Upload this .HTML file to your Google Drive, Dropbox, or your Github repo. (If it is submitted to Google Drive or Dropbox, you must make the file open-access.)\n",
    "\n",
    "6. Submit the link to this .HTML file to Canvas.\n",
    "\n",
    "    * Example: https://github.com/wangshusen/CS583-2020S/blob/master/homework/Bonus1/Bonus1.html\n",
    "\n"
   ]
  },
  {
   "cell_type": "code",
   "execution_count": null,
   "metadata": {},
   "outputs": [],
   "source": []
  },
  {
   "cell_type": "markdown",
   "metadata": {},
   "source": [
    "# 1. Data processing\n",
    "\n",
    "- Download the Diabete dataset from https://www.csie.ntu.edu.tw/~cjlin/libsvmtools/datasets/binary/diabetes\n",
    "- Load the data using sklearn.\n",
    "- Preprocess the data."
   ]
  },
  {
   "cell_type": "markdown",
   "metadata": {},
   "source": [
    "## 1.1. Load the data"
   ]
  },
  {
   "cell_type": "code",
   "execution_count": 1,
   "metadata": {},
   "outputs": [],
   "source": [
    "import numpy as np"
   ]
  },
  {
   "cell_type": "code",
   "execution_count": 2,
   "metadata": {},
   "outputs": [
    {
     "name": "stdout",
     "output_type": "stream",
     "text": [
      "Shape of x: (768, 8)\n",
      "Shape of y: (768,)\n"
     ]
    }
   ],
   "source": [
    "from sklearn import datasets\n",
    "import numpy\n",
    "\n",
    "\n",
    "x_sparse, y = datasets.load_svmlight_file('diabetes')\n",
    "x = x_sparse.todense()\n",
    "\n",
    "print('Shape of x: ' + str(x.shape))\n",
    "print('Shape of y: ' + str(y.shape))"
   ]
  },
  {
   "cell_type": "markdown",
   "metadata": {},
   "source": [
    "## 1.2. Partition to training and test sets"
   ]
  },
  {
   "cell_type": "code",
   "execution_count": 3,
   "metadata": {},
   "outputs": [
    {
     "name": "stdout",
     "output_type": "stream",
     "text": [
      "Shape of x_train: (640, 8)\n",
      "Shape of x_test: (128, 8)\n",
      "Shape of y_train: (640, 1)\n",
      "Shape of y_test: (128, 1)\n"
     ]
    }
   ],
   "source": [
    "# partition the data to training and test sets\n",
    "n = x.shape[0]\n",
    "n_train = 640\n",
    "n_test = n - n_train\n",
    "\n",
    "rand_indices = numpy.random.permutation(n)\n",
    "train_indices = rand_indices[0:n_train]\n",
    "test_indices = rand_indices[n_train:n]\n",
    "\n",
    "x_train = x[train_indices, :]\n",
    "x_test = x[test_indices, :]\n",
    "y_train = y[train_indices].reshape(n_train, 1)\n",
    "y_test = y[test_indices].reshape(n_test, 1)\n",
    "\n",
    "print('Shape of x_train: ' + str(x_train.shape))\n",
    "print('Shape of x_test: ' + str(x_test.shape))\n",
    "print('Shape of y_train: ' + str(y_train.shape))\n",
    "print('Shape of y_test: ' + str(y_test.shape))"
   ]
  },
  {
   "cell_type": "markdown",
   "metadata": {},
   "source": [
    "## 1.3. Feature scaling"
   ]
  },
  {
   "cell_type": "markdown",
   "metadata": {},
   "source": [
    "Use the standardization to trainsform both training and test features"
   ]
  },
  {
   "cell_type": "code",
   "execution_count": 4,
   "metadata": {},
   "outputs": [
    {
     "name": "stdout",
     "output_type": "stream",
     "text": [
      "test mean = \n",
      "[[-0.17956863 -0.02353761 -0.10179319 -0.06414391 -0.06712633 -0.07623858\n",
      "  -0.09847241 -0.07449868]]\n",
      "test std = \n",
      "[[0.92237931 0.97876213 1.22879716 0.96536265 0.98563543 1.00910107\n",
      "  0.77305595 0.96906312]]\n"
     ]
    }
   ],
   "source": [
    "# Standardization\n",
    "import numpy\n",
    "\n",
    "# calculate mu and sig using the training set\n",
    "d = x_train.shape[1]\n",
    "mu = numpy.mean(x_train, axis=0).reshape(1, d)\n",
    "sig = numpy.std(x_train, axis=0).reshape(1, d)\n",
    "\n",
    "# transform the training features\n",
    "x_train = (x_train - mu) / (sig + 1E-6)\n",
    "\n",
    "# transform the test features\n",
    "x_test = (x_test - mu) / (sig + 1E-6)\n",
    "\n",
    "print('test mean = ')\n",
    "print(numpy.mean(x_test, axis=0))\n",
    "\n",
    "print('test std = ')\n",
    "print(numpy.std(x_test, axis=0))"
   ]
  },
  {
   "cell_type": "markdown",
   "metadata": {},
   "source": [
    "## 1.4. Add a dimension of all ones"
   ]
  },
  {
   "cell_type": "code",
   "execution_count": 5,
   "metadata": {},
   "outputs": [
    {
     "name": "stdout",
     "output_type": "stream",
     "text": [
      "Shape of x_train: (640, 9)\n",
      "Shape of x_test: (128, 9)\n"
     ]
    }
   ],
   "source": [
    "n_train, d = x_train.shape\n",
    "x_train = numpy.concatenate((x_train, numpy.ones((n_train, 1))), axis=1)\n",
    "\n",
    "n_test, d = x_test.shape\n",
    "x_test = numpy.concatenate((x_test, numpy.ones((n_test, 1))), axis=1)\n",
    "\n",
    "print('Shape of x_train: ' + str(x_train.shape))\n",
    "print('Shape of x_test: ' + str(x_test.shape))"
   ]
  },
  {
   "cell_type": "markdown",
   "metadata": {},
   "source": [
    "# Federated Averaging"
   ]
  },
  {
   "cell_type": "code",
   "execution_count": 6,
   "metadata": {},
   "outputs": [],
   "source": [
    "class FedAvgWorker:\n",
    "    def __init__(self, x, y):\n",
    "        self.x = x # sxd local feature matrix\n",
    "        self.y = y # sx1 local label matrix\n",
    "        self.s = x.shape[0] # number of local samples\n",
    "        self.d = x.shape[1] # number of features\n",
    "        self.w = numpy.zeros((d,1)) # dx1 model paraemeter vector\n",
    "        self.momentum = 0 # scalar\n",
    "    \n",
    "    # Set the model parameters to the dataset\n",
    "    def set_param(self, w):\n",
    "        self.w = w\n",
    "    \n",
    "    # Computer the local loss\n",
    "    def loss(self):\n",
    "        yx = numpy.multiply(self.y, self.x) # sxd\n",
    "        yxw = numpy.dot(yx, self.w) # sx1\n",
    "        vec1 = numpy.exp(-yxw) # sx1\n",
    "        vec2 = numpy.log(1 + vec1) # sx1\n",
    "        return numpy.sum(vec2) # loss function\n",
    "    \n",
    "    # Compute the local gradient\n",
    "    def gradient(self, lam):\n",
    "        yx = numpy.multiply(self.y, self.x) # sxd\n",
    "        yxw = numpy.dot(yx, self.w) # sx1\n",
    "        vec1 = numpy.exp(yxw) # sx1\n",
    "        vec2 = numpy.divide(yx, 1 + vec1) # sxd\n",
    "        vec3 = -numpy.sum(vec2, axis = 0).reshape(self.d, 1) # dx1\n",
    "        g = vec3 + lam * self.w\n",
    "        return g\n",
    "    \n",
    "    # Run gradient descent\n",
    "    def GD(self, q, lr, beta, lam):\n",
    "        w0 = self.w\n",
    "        \n",
    "        for i in range(q):\n",
    "            gradient = self.gradient(lam)\n",
    "            self.momentum *= beta\n",
    "            self.momentum += gradient\n",
    "            self.w -= lr * self.momentum\n",
    "        return w0 - self.w\n",
    "                \n",
    "        \n",
    "    \n",
    "    # Compute the stochastic gradient\n",
    "    def stochastic_gradient(self, xi, yi, lam):\n",
    "        yx =numpy.multiply(yi, xi)\n",
    "        yxw = float(np.dot(yx, w))\n",
    "        \n",
    "        g_loss = -yx.T / (1 + numpy.exp(yxw)) # yx1\n",
    "        g = g_loss + lam * self.w # dx1\n",
    "        return g\n",
    "    # Run stochastic gradient descent\n",
    "    def SGD(self, q, lr, beta, lam):\n",
    "        w0 = self.w\n",
    "        \n",
    "        for t in range(q):\n",
    "            rand = np.random.permutation(self.s)\n",
    "            x_rand = self.x[rand, :]\n",
    "            y_rand = self.y[rand]\n",
    "            \n",
    "            for i in range(self.s):\n",
    "                xi = x_rand[i, :]\n",
    "                yi = float(y_rand[i])\n",
    "                g = self.stochastic_gradient(xi, yi, lam)\n",
    "                self.w -= lr * g\n",
    "        \n",
    "        return w0 - self.w\n",
    "        "
   ]
  },
  {
   "cell_type": "code",
   "execution_count": 7,
   "metadata": {},
   "outputs": [],
   "source": [
    "class FedAvgServer:\n",
    "    def __init__(self, m, n, d):\n",
    "        self.m = m # number of worker nodes\n",
    "        self.n = n # number of training samples\n",
    "        self.d = d # number of features\n",
    "        \n",
    "        self.w = numpy.zeros((d,1)) # dx1 model parameter vector\n",
    "        self.g = numpy.zeros((d,1)) # dx1 gradient\n",
    "        self.v = numpy.zeros((d,1)) # dx1 momentum\n",
    "        self.loss = 0 # loss function value\n",
    "        self.obj = 0 # objective function value\n",
    "        \n",
    "    def broadcast(self):\n",
    "        return self.w\n",
    "\n",
    "\n",
    "    def aggregate(self, ps, losses):\n",
    "        self.p = numpy.mean(ps, axis = 0).reshape(self.d, 1)\n",
    "        self.loss = numpy.sum(losses)\n",
    "        \n",
    "    \n",
    "    # Computer the objective function (sum of loss and regularization)\n",
    "    def objective(self, lam):\n",
    "        reg = lam / 2 * numpy.sum(self.w * self.w)\n",
    "        self.obj = self.loss / self.n + reg\n",
    "        return self.obj\n",
    "    \n",
    "    def agd(self, lr):\n",
    "        self.w -= lr * self.p"
   ]
  },
  {
   "cell_type": "code",
   "execution_count": 8,
   "metadata": {},
   "outputs": [],
   "source": [
    "import math\n",
    "\n",
    "# Create a server and m worker nodes\n",
    "def create_server_workers(m, x, y):\n",
    "    n, d = x.shape\n",
    "    s = math.floor(n / m)\n",
    "    server = FedAvgServer(m, n, d)\n",
    "    workers = []\n",
    "    \n",
    "    for i in range(m):\n",
    "        indices = list(range(i*s, (i+1)*s))\n",
    "        worker = FedAvgWorker(x[indices, :], y[indices, :])\n",
    "        workers.append(worker)\n",
    "        \n",
    "    return server, workers"
   ]
  },
  {
   "cell_type": "markdown",
   "metadata": {},
   "source": [
    "# GD q = 8"
   ]
  },
  {
   "cell_type": "code",
   "execution_count": 9,
   "metadata": {},
   "outputs": [],
   "source": [
    "m = 4\n",
    "lam = 1E-6 # regularization parameter\n",
    "learning_rate = 1E-4\n",
    "beta = 0.9\n",
    "max_epoch = 50\n",
    "q = 8\n",
    "\n",
    "gd_q8_server, gd_q8_workers = create_server_workers(m, x_train, y_train)"
   ]
  },
  {
   "cell_type": "code",
   "execution_count": 10,
   "metadata": {},
   "outputs": [
    {
     "name": "stdout",
     "output_type": "stream",
     "text": [
      "Objective function value = 0.6025714123635149\n",
      "Objective function value = 0.51693249455322\n",
      "Objective function value = 0.49222330836293526\n",
      "Objective function value = 0.4859078974170336\n",
      "Objective function value = 0.4840830282025134\n",
      "Objective function value = 0.4834348695874717\n",
      "Objective function value = 0.4828735616136389\n",
      "Objective function value = 0.48259398182827523\n",
      "Objective function value = 0.4825221078035693\n",
      "Objective function value = 0.4824910680157493\n",
      "Objective function value = 0.4824732620510459\n",
      "Objective function value = 0.482466373383299\n",
      "Objective function value = 0.4824617909275841\n",
      "Objective function value = 0.4824589559093751\n",
      "Objective function value = 0.4824588168646976\n",
      "Objective function value = 0.48245980083722745\n",
      "Objective function value = 0.4824602987631244\n",
      "Objective function value = 0.4824599387790637\n",
      "Objective function value = 0.4824591322774705\n",
      "Objective function value = 0.4824583890180608\n",
      "Objective function value = 0.4824579389986211\n",
      "Objective function value = 0.4824577425295252\n",
      "Objective function value = 0.48245768154333357\n",
      "Objective function value = 0.4824576822907352\n",
      "Objective function value = 0.48245771931046705\n",
      "Objective function value = 0.4824577785312295\n",
      "Objective function value = 0.48245783981775653\n",
      "Objective function value = 0.48245788398429\n",
      "Objective function value = 0.4824579037296901\n",
      "Objective function value = 0.4824579044943305\n",
      "Objective function value = 0.482457896918714\n",
      "Objective function value = 0.4824578892780563\n",
      "Objective function value = 0.4824578848049706\n",
      "Objective function value = 0.4824578831469259\n",
      "Objective function value = 0.482457882876158\n",
      "Objective function value = 0.4824578829785678\n",
      "Objective function value = 0.4824578830901827\n",
      "Objective function value = 0.4824578831767166\n",
      "Objective function value = 0.48245788325421446\n",
      "Objective function value = 0.4824578833116219\n",
      "Objective function value = 0.48245788333689027\n",
      "Objective function value = 0.482457883338117\n",
      "Objective function value = 0.48245788333392353\n",
      "Objective function value = 0.4824578833362577\n",
      "Objective function value = 0.48245788334514284\n",
      "Objective function value = 0.482457883354628\n",
      "Objective function value = 0.4824578833600962\n",
      "Objective function value = 0.4824578833609199\n",
      "Objective function value = 0.4824578833590352\n",
      "Objective function value = 0.482457883356613\n"
     ]
    }
   ],
   "source": [
    "\n",
    "objvals_gd_q8 = []\n",
    "for t in range(max_epoch):\n",
    "    # step 1: broadcast\n",
    "    w = gd_q8_server.broadcast()\n",
    "    for i in range(m):\n",
    "        gd_q8_workers[i].set_param(w)\n",
    "    \n",
    "    # step 2: workers' local computations\n",
    "    ps = []\n",
    "    losses = []\n",
    "    for i in range(m):\n",
    "        p = gd_q8_workers[i].GD(q, learning_rate, beta, lam)\n",
    "        ps.append(p.squeeze())\n",
    "        l = gd_q8_workers[i].loss()\n",
    "        losses.append(l)\n",
    "    \n",
    "    # step 3: aggregate the workers' outputs\n",
    "    gd_q8_server.aggregate(ps, losses)\n",
    "    \n",
    "    # step 4: server update the model parameters\n",
    "    obj = gd_q8_server.objective(lam) # compute objective function\n",
    "    print('Objective function value = ' + str(obj))\n",
    "    gd_q8_server.agd(learning_rate) # updates the model partameters\n",
    "\n",
    "    objvals_gd_q8.append(obj)"
   ]
  },
  {
   "cell_type": "markdown",
   "metadata": {},
   "source": [
    "# GD q = 1"
   ]
  },
  {
   "cell_type": "code",
   "execution_count": 11,
   "metadata": {},
   "outputs": [],
   "source": [
    "m = 4\n",
    "lam = 1E-6 # regularization parameter\n",
    "learning_rate = 1E-4\n",
    "beta = 0.9\n",
    "max_epoch = 50\n",
    "q = 1\n",
    "\n",
    "gd_q1_server, gd_q1_workers = create_server_workers(m, x_train, y_train)"
   ]
  },
  {
   "cell_type": "code",
   "execution_count": 12,
   "metadata": {},
   "outputs": [
    {
     "name": "stdout",
     "output_type": "stream",
     "text": [
      "Objective function value = 0.6883711915002282\n",
      "Objective function value = 0.6770143696815892\n",
      "Objective function value = 0.6608296941932269\n",
      "Objective function value = 0.6417154348031102\n",
      "Objective function value = 0.6214556644063608\n",
      "Objective function value = 0.6015258604811118\n",
      "Objective function value = 0.5829884138951628\n",
      "Objective function value = 0.5664810636197536\n",
      "Objective function value = 0.5522758496313597\n",
      "Objective function value = 0.5403732742532951\n",
      "Objective function value = 0.5306000726672775\n",
      "Objective function value = 0.522691503782779\n",
      "Objective function value = 0.5163513125640646\n",
      "Objective function value = 0.5112903308229783\n",
      "Objective function value = 0.5072481124792202\n",
      "Objective function value = 0.504002615926549\n",
      "Objective function value = 0.5013722397728008\n",
      "Objective function value = 0.49921342629148596\n",
      "Objective function value = 0.4974160226764339\n",
      "Objective function value = 0.4958977899391184\n",
      "Objective function value = 0.4945988843583835\n",
      "Objective function value = 0.49347676375269983\n",
      "Objective function value = 0.4925017373949648\n",
      "Objective function value = 0.4916532383836875\n",
      "Objective function value = 0.49091681669419096\n",
      "Objective function value = 0.49028180672492816\n",
      "Objective function value = 0.4897396000188399\n",
      "Objective function value = 0.4892824429194279\n",
      "Objective function value = 0.48890267501195606\n",
      "Objective function value = 0.48859232449671336\n",
      "Objective function value = 0.4883429797359628\n",
      "Objective function value = 0.4881458614406399\n",
      "Objective function value = 0.4879920269730249\n",
      "Objective function value = 0.48787264677187664\n",
      "Objective function value = 0.48777930263957076\n",
      "Objective function value = 0.48770426814851997\n",
      "Objective function value = 0.487640742215042\n",
      "Objective function value = 0.48758301739196547\n",
      "Objective function value = 0.4875265740987774\n",
      "Objective function value = 0.4874681003686886\n",
      "Objective function value = 0.4874054434015668\n",
      "Objective function value = 0.48733750408270715\n",
      "Objective function value = 0.487264088634264\n",
      "Objective function value = 0.4871857328294642\n",
      "Objective function value = 0.4871035139556613\n",
      "Objective function value = 0.4870188642740183\n",
      "Objective function value = 0.4869333974411907\n",
      "Objective function value = 0.48684875658232313\n",
      "Objective function value = 0.4867664897561425\n",
      "Objective function value = 0.4866879557024407\n"
     ]
    }
   ],
   "source": [
    "\n",
    "objvals_gd_q1 = []\n",
    "for t in range(max_epoch):\n",
    "    # step 1: broadcast\n",
    "    w = gd_q1_server.broadcast()\n",
    "    for i in range(m):\n",
    "        gd_q1_workers[i].set_param(w)\n",
    "    \n",
    "    # step 2: workers' local computations\n",
    "    ps = []\n",
    "    losses = []\n",
    "    for i in range(m):\n",
    "        p = gd_q1_workers[i].GD(q, learning_rate, beta, lam)\n",
    "        ps.append(p.squeeze())\n",
    "        l = gd_q1_workers[i].loss()\n",
    "        losses.append(l)\n",
    "    \n",
    "    # step 3: aggregate the workers' outputs\n",
    "    gd_q1_server.aggregate(ps, losses)\n",
    "    \n",
    "    # step 4: server update the model parameters\n",
    "    obj = gd_q1_server.objective(lam) # compute objective function\n",
    "    print('Objective function value = ' + str(obj))\n",
    "    gd_q1_server.agd(learning_rate) # updates the model partameters\n",
    "\n",
    "    objvals_gd_q1.append(obj)"
   ]
  },
  {
   "cell_type": "code",
   "execution_count": null,
   "metadata": {},
   "outputs": [],
   "source": []
  },
  {
   "cell_type": "markdown",
   "metadata": {},
   "source": [
    "# SGD q =1"
   ]
  },
  {
   "cell_type": "code",
   "execution_count": 13,
   "metadata": {},
   "outputs": [],
   "source": [
    "m = 4\n",
    "lam = 1E-6 # regularization parameter\n",
    "learning_rate = 1E-4\n",
    "beta = 0.9\n",
    "max_epoch = 50\n",
    "q = 1\n",
    "\n",
    "sgd_q1_server, sgd_q1_workers = create_server_workers(m, x_train, y_train)"
   ]
  },
  {
   "cell_type": "code",
   "execution_count": 14,
   "metadata": {},
   "outputs": [
    {
     "name": "stdout",
     "output_type": "stream",
     "text": [
      "Objective function value = 0.6883864229211212\n",
      "Objective function value = 0.6811347505700738\n",
      "Objective function value = 0.674248002218547\n",
      "Objective function value = 0.6677014593657795\n",
      "Objective function value = 0.6614779915192472\n",
      "Objective function value = 0.6555598572813642\n",
      "Objective function value = 0.6499284975328349\n",
      "Objective function value = 0.6445672244472005\n",
      "Objective function value = 0.6394587923364974\n",
      "Objective function value = 0.6345907933195664\n",
      "Objective function value = 0.6299465812463769\n",
      "Objective function value = 0.6255135842146174\n",
      "Objective function value = 0.6212808430889389\n",
      "Objective function value = 0.6172365266513227\n",
      "Objective function value = 0.613369991957356\n",
      "Objective function value = 0.6096714755361294\n",
      "Objective function value = 0.6061315665549557\n",
      "Objective function value = 0.602740672744736\n",
      "Objective function value = 0.5994907449260662\n",
      "Objective function value = 0.596374156277199\n",
      "Objective function value = 0.593383596222856\n",
      "Objective function value = 0.5905122922325152\n",
      "Objective function value = 0.5877532047405067\n",
      "Objective function value = 0.5851016611154317\n",
      "Objective function value = 0.5825520283372153\n",
      "Objective function value = 0.5800988802013262\n",
      "Objective function value = 0.5777374453920189\n",
      "Objective function value = 0.5754622335623498\n",
      "Objective function value = 0.5732698576786339\n",
      "Objective function value = 0.5711557165638064\n",
      "Objective function value = 0.5691163227467185\n",
      "Objective function value = 0.5671479898662913\n",
      "Objective function value = 0.5652468707439933\n",
      "Objective function value = 0.5634106641448128\n",
      "Objective function value = 0.561636088657558\n",
      "Objective function value = 0.5599203683846852\n",
      "Objective function value = 0.5582602769611055\n",
      "Objective function value = 0.5566539522544613\n",
      "Objective function value = 0.5550991038536001\n",
      "Objective function value = 0.5535933688733624\n",
      "Objective function value = 0.5521344554051082\n",
      "Objective function value = 0.5507202526595525\n",
      "Objective function value = 0.5493486068814447\n",
      "Objective function value = 0.5480185275154784\n",
      "Objective function value = 0.5467279739908988\n",
      "Objective function value = 0.5454755138133622\n",
      "Objective function value = 0.5442593861099654\n",
      "Objective function value = 0.5430783002785214\n",
      "Objective function value = 0.5419308053197333\n",
      "Objective function value = 0.540815523892574\n"
     ]
    }
   ],
   "source": [
    "\n",
    "objvals_sgd_q1 = []\n",
    "for t in range(max_epoch):\n",
    "    # step 1: broadcast\n",
    "    w = sgd_q1_server.broadcast()\n",
    "    for i in range(m):\n",
    "        sgd_q1_workers[i].set_param(w)\n",
    "    \n",
    "    # step 2: workers' local computations\n",
    "    ps = []\n",
    "    losses = []\n",
    "    for i in range(m):\n",
    "        p = sgd_q1_workers[i].SGD(q, learning_rate, beta, lam)\n",
    "        ps.append(p.squeeze())\n",
    "        l = sgd_q1_workers[i].loss()\n",
    "        losses.append(l)\n",
    "    \n",
    "    # step 3: aggregate the workers' outputs\n",
    "    sgd_q1_server.aggregate(ps, losses)\n",
    "    \n",
    "    # step 4: server update the model parameters\n",
    "    obj = sgd_q1_server.objective(lam) # compute objective function\n",
    "    print('Objective function value = ' + str(obj))\n",
    "    sgd_q1_server.agd(learning_rate) # updates the model partameters\n",
    "\n",
    "    objvals_sgd_q1.append(obj)"
   ]
  },
  {
   "cell_type": "markdown",
   "metadata": {},
   "source": [
    "# SGD q =8"
   ]
  },
  {
   "cell_type": "code",
   "execution_count": 15,
   "metadata": {},
   "outputs": [],
   "source": [
    "m = 4\n",
    "lam = 1E-6 # regularization parameter\n",
    "learning_rate = 1E-4\n",
    "beta = 0.9\n",
    "max_epoch = 50\n",
    "q = 8\n",
    "\n",
    "sgd_q8_server, sgd_q8_workers = create_server_workers(m, x_train, y_train)"
   ]
  },
  {
   "cell_type": "code",
   "execution_count": 16,
   "metadata": {},
   "outputs": [
    {
     "name": "stdout",
     "output_type": "stream",
     "text": [
      "Objective function value = 0.6596630638741423\n",
      "Objective function value = 0.6199435199675158\n",
      "Objective function value = 0.5923482138250817\n",
      "Objective function value = 0.5724329203225925\n",
      "Objective function value = 0.557558233370046\n",
      "Objective function value = 0.5461193713531203\n",
      "Objective function value = 0.5371079296835104\n",
      "Objective function value = 0.5298664290560171\n",
      "Objective function value = 0.5239513345748298\n",
      "Objective function value = 0.5190531441687171\n",
      "Objective function value = 0.5149504213874847\n",
      "Objective function value = 0.5114804198402584\n",
      "Objective function value = 0.5085213239317112\n",
      "Objective function value = 0.5059797102123167\n",
      "Objective function value = 0.5037836125084275\n",
      "Objective function value = 0.5018759898232901\n",
      "Objective function value = 0.5002111404166555\n",
      "Objective function value = 0.49875158833437666\n",
      "Objective function value = 0.49746740962405633\n",
      "Objective function value = 0.49633378997366623\n",
      "Objective function value = 0.49532972593812374\n",
      "Objective function value = 0.4944380746838513\n",
      "Objective function value = 0.49364431904264805\n",
      "Objective function value = 0.49293593407777475\n",
      "Objective function value = 0.4923023385662668\n",
      "Objective function value = 0.4917346293624919\n",
      "Objective function value = 0.4912249175193647\n",
      "Objective function value = 0.49076639333976874\n",
      "Objective function value = 0.49035345041392675\n",
      "Objective function value = 0.4899807332929866\n",
      "Objective function value = 0.48964396243834457\n",
      "Objective function value = 0.4893391009142653\n",
      "Objective function value = 0.48906297196356574\n",
      "Objective function value = 0.4888125768561338\n",
      "Objective function value = 0.48858536317632356\n",
      "Objective function value = 0.4883784682238535\n",
      "Objective function value = 0.48819035413861783\n",
      "Objective function value = 0.4880191529118747\n",
      "Objective function value = 0.48786286071389245\n",
      "Objective function value = 0.48772039423227614\n",
      "Objective function value = 0.48759018394334164\n",
      "Objective function value = 0.4874711103643462\n",
      "Objective function value = 0.48736249579692564\n",
      "Objective function value = 0.4872629476465127\n",
      "Objective function value = 0.48717173264361174\n",
      "Objective function value = 0.4870881623710633\n",
      "Objective function value = 0.48701150343611693\n",
      "Objective function value = 0.48694116420630146\n",
      "Objective function value = 0.48687667569736376\n",
      "Objective function value = 0.4868173840307935\n"
     ]
    }
   ],
   "source": [
    "\n",
    "objvals_sgd_q8 = []\n",
    "for t in range(max_epoch):\n",
    "    # step 1: broadcast\n",
    "    w = sgd_q8_server.broadcast()\n",
    "    for i in range(m):\n",
    "        sgd_q8_workers[i].set_param(w)\n",
    "    \n",
    "    # step 2: workers' local computations\n",
    "    ps = []\n",
    "    losses = []\n",
    "    for i in range(m):\n",
    "        p = sgd_q8_workers[i].SGD(q, learning_rate, beta, lam)\n",
    "        ps.append(p.squeeze())\n",
    "        l = sgd_q8_workers[i].loss()\n",
    "        losses.append(l)\n",
    "    \n",
    "    # step 3: aggregate the workers' outputs\n",
    "    sgd_q8_server.aggregate(ps, losses)\n",
    "    \n",
    "    # step 4: server update the model parameters\n",
    "    obj = sgd_q8_server.objective(lam) # compute objective function\n",
    "    print('Objective function value = ' + str(obj))\n",
    "    sgd_q8_server.agd(learning_rate) # updates the model partameters\n",
    "\n",
    "    objvals_sgd_q8.append(obj)"
   ]
  },
  {
   "cell_type": "code",
   "execution_count": 18,
   "metadata": {},
   "outputs": [
    {
     "name": "stderr",
     "output_type": "stream",
     "text": [
      "/Users/wangchenxu/opt/anaconda3/envs/tensorflow/lib/python3.7/site-packages/ipykernel_launcher.py:8: MatplotlibDeprecationWarning: Case-insensitive properties were deprecated in 3.3 and support will be removed two minor releases later\n",
      "  \n",
      "/Users/wangchenxu/opt/anaconda3/envs/tensorflow/lib/python3.7/site-packages/ipykernel_launcher.py:9: MatplotlibDeprecationWarning: Case-insensitive properties were deprecated in 3.3 and support will be removed two minor releases later\n",
      "  if __name__ == '__main__':\n",
      "/Users/wangchenxu/opt/anaconda3/envs/tensorflow/lib/python3.7/site-packages/ipykernel_launcher.py:10: MatplotlibDeprecationWarning: Case-insensitive properties were deprecated in 3.3 and support will be removed two minor releases later\n",
      "  # Remove the CWD from sys.path while we load stuff.\n",
      "/Users/wangchenxu/opt/anaconda3/envs/tensorflow/lib/python3.7/site-packages/ipykernel_launcher.py:11: MatplotlibDeprecationWarning: Case-insensitive properties were deprecated in 3.3 and support will be removed two minor releases later\n",
      "  # This is added back by InteractiveShellApp.init_path()\n",
      "/Users/wangchenxu/opt/anaconda3/envs/tensorflow/lib/python3.7/site-packages/ipykernel_launcher.py:13: MatplotlibDeprecationWarning: Case-insensitive properties were deprecated in 3.3 and support will be removed two minor releases later\n",
      "  del sys.path[0]\n",
      "/Users/wangchenxu/opt/anaconda3/envs/tensorflow/lib/python3.7/site-packages/ipykernel_launcher.py:14: MatplotlibDeprecationWarning: Case-insensitive properties were deprecated in 3.3 and support will be removed two minor releases later\n",
      "  \n",
      "/Users/wangchenxu/opt/anaconda3/envs/tensorflow/lib/python3.7/site-packages/ipykernel_launcher.py:15: MatplotlibDeprecationWarning: Case-insensitive properties were deprecated in 3.3 and support will be removed two minor releases later\n",
      "  from ipykernel import kernelapp as app\n",
      "/Users/wangchenxu/opt/anaconda3/envs/tensorflow/lib/python3.7/site-packages/ipykernel_launcher.py:16: MatplotlibDeprecationWarning: Case-insensitive properties were deprecated in 3.3 and support will be removed two minor releases later\n",
      "  app.launch_new_instance()\n"
     ]
    },
    {
     "data": {
      "image/png": "[encoded data removed]",
      "text/plain": [
       "<Figure size 432x288 with 1 Axes>"
      ]
     },
     "metadata": {
      "needs_background": "light"
     },
     "output_type": "display_data"
    }
   ],
   "source": [
    "import matplotlib.pyplot as plt\n",
    "%matplotlib inline\n",
    "\n",
    "fig = plt.figure(figsize=(6, 4))\n",
    "\n",
    "epochs_gd = range(len(objvals_sgd_q8))\n",
    "\n",
    "line0, = plt.plot(epochs_gd, objvals_gd_q1, '-b', LineWidth=2, )\n",
    "line1, = plt.plot(epochs_gd, objvals_gd_q8, '-r', LineWidth=2)\n",
    "line2, = plt.plot(epochs_gd, objvals_sgd_q1, '-g', LineWidth=2)\n",
    "line3, = plt.plot(epochs_gd, objvals_sgd_q8, '-p', LineWidth=2)\n",
    "\n",
    "plt.xlabel('Epochs', FontSize=20)\n",
    "plt.ylabel('Objective Value', FontSize=20)\n",
    "plt.xticks(FontSize=16)\n",
    "plt.yticks(FontSize=16)\n",
    "plt.legend([line0, line1, line2, line3], ['gd_q1', 'gd_q8', 'sgd_q1', 'sgd_q8'])\n",
    "plt.tight_layout()\n",
    "plt.show()\n",
    "fig.savefig('compare_gd_sgd.pdf', format='pdf', dpi=1200)"
   ]
  },
  {
   "cell_type": "code",
   "execution_count": null,
   "metadata": {},
   "outputs": [],
   "source": []
  },
  {
   "cell_type": "code",
   "execution_count": null,
   "metadata": {},
   "outputs": [],
   "source": []
  }
 ],
 "metadata": {
  "kernelspec": {
   "display_name": "Python 3",
   "language": "python",
   "name": "python3"
  },
  "language_info": {
   "codemirror_mode": {
    "name": "ipython",
    "version": 3
   },
   "file_extension": ".py",
   "mimetype": "text/x-python",
   "name": "python",
   "nbconvert_exporter": "python",
   "pygments_lexer": "ipython3",
   "version": "3.7.9"
  }
 },
 "nbformat": 4,
 "nbformat_minor": 2
}
