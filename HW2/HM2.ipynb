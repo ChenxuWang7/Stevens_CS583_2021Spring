{
 "cells": [
  {
   "cell_type": "markdown",
   "metadata": {},
   "source": [
    "# HM2: Numerical Optimization for Logistic Regression.\n",
    "\n",
    "### Name: [Chenxu Wang]\n",
    "### CWID: [10457625]\n"
   ]
  },
  {
   "cell_type": "markdown",
   "metadata": {},
   "source": [
    "## 0. You will do the following:\n",
    "\n",
    "1. Read the lecture note: [click here](https://github.com/wangshusen/DeepLearning/blob/master/LectureNotes/Logistic/paper/logistic.pdf)\n",
    "\n",
    "2. Read, complete, and run my code.\n",
    "\n",
    "3. **Implement mini-batch SGD** and evaluate the performance.\n",
    "\n",
    "4. Convert the .IPYNB file to .HTML file.\n",
    "\n",
    "    * The HTML file must contain **the code** and **the output after execution**.\n",
    "    \n",
    "    * Missing **the output after execution** will not be graded.\n",
    "    \n",
    "5. Upload this .HTML file to your Google Drive, Dropbox, or your Github repo.  (If you submit the file to Google Drive or Dropbox, you must make the file \"open-access\". The delay caused by \"deny of access\" may result in late penalty.)\n",
    "\n",
    "6. Submit the link to this .HTML file to Canvas.\n",
    "\n",
    "    * Example: https://github.com/wangshusen/CS583-2020S/blob/master/homework/HM2/HM2.html\n",
    "\n",
    "\n",
    "## Grading criteria:\n",
    "\n",
    "1. When computing the ```gradient``` and ```objective function value``` using a batch of samples, use **matrix-vector multiplication** rather than a FOR LOOP of **vector-vector multiplications**.\n",
    "\n",
    "2. Plot ```objective function value``` against ```epochs```. In the plot, compare GD, SGD, and MB-SGD (with $b=8$ and $b=64$). The plot must look reasonable."
   ]
  },
  {
   "cell_type": "code",
   "execution_count": null,
   "metadata": {},
   "outputs": [],
   "source": []
  },
  {
   "cell_type": "markdown",
   "metadata": {},
   "source": [
    "# 1. Data processing\n",
    "\n",
    "- Download the Diabete dataset from https://www.csie.ntu.edu.tw/~cjlin/libsvmtools/datasets/binary/diabetes\n",
    "- Load the data using sklearn.\n",
    "- Preprocess the data."
   ]
  },
  {
   "cell_type": "markdown",
   "metadata": {},
   "source": [
    "## 1.1. Load the data"
   ]
  },
  {
   "cell_type": "code",
   "execution_count": 2,
   "metadata": {},
   "outputs": [
    {
     "name": "stdout",
     "output_type": "stream",
     "text": [
      "Shape of x: (768, 8)\n",
      "Shape of y: (768,)\n"
     ]
    }
   ],
   "source": [
    "from sklearn import datasets\n",
    "import numpy\n",
    "\n",
    "x_sparse, y = datasets.load_svmlight_file('diabetes')\n",
    "x = x_sparse.todense()\n",
    "\n",
    "print('Shape of x: ' + str(x.shape))\n",
    "print('Shape of y: ' + str(y.shape))"
   ]
  },
  {
   "cell_type": "markdown",
   "metadata": {},
   "source": [
    "## 1.2. Partition to training and test sets"
   ]
  },
  {
   "cell_type": "code",
   "execution_count": 3,
   "metadata": {},
   "outputs": [
    {
     "name": "stdout",
     "output_type": "stream",
     "text": [
      "Shape of x_train: (640, 8)\n",
      "Shape of x_test: (128, 8)\n",
      "Shape of y_train: (640, 1)\n",
      "Shape of y_test: (128, 1)\n"
     ]
    }
   ],
   "source": [
    "# partition the data to training and test sets\n",
    "n = x.shape[0]\n",
    "n_train = 640\n",
    "n_test = n - n_train\n",
    "\n",
    "rand_indices = numpy.random.permutation(n)\n",
    "train_indices = rand_indices[0:n_train]\n",
    "test_indices = rand_indices[n_train:n]\n",
    "\n",
    "x_train = x[train_indices, :]\n",
    "x_test = x[test_indices, :]\n",
    "y_train = y[train_indices].reshape(n_train, 1)\n",
    "y_test = y[test_indices].reshape(n_test, 1)\n",
    "\n",
    "print('Shape of x_train: ' + str(x_train.shape))\n",
    "print('Shape of x_test: ' + str(x_test.shape))\n",
    "print('Shape of y_train: ' + str(y_train.shape))\n",
    "print('Shape of y_test: ' + str(y_test.shape))"
   ]
  },
  {
   "cell_type": "markdown",
   "metadata": {},
   "source": [
    "## 1.3. Feature scaling"
   ]
  },
  {
   "cell_type": "markdown",
   "metadata": {},
   "source": [
    "Use the standardization to trainsform both training and test features"
   ]
  },
  {
   "cell_type": "code",
   "execution_count": 4,
   "metadata": {},
   "outputs": [
    {
     "name": "stdout",
     "output_type": "stream",
     "text": [
      "test mean = \n",
      "[[-0.11053602  0.14649021 -0.04755998  0.10894306  0.22827286  0.22869266\n",
      "   0.09723059 -0.0763495 ]]\n",
      "test std = \n",
      "[[0.9231179  1.19710929 1.03721744 0.99244286 1.26163557 1.07306952\n",
      "  1.25287102 0.98994977]]\n"
     ]
    }
   ],
   "source": [
    "# Standardization\n",
    "import numpy\n",
    "\n",
    "# calculate mu and sig using the training set\n",
    "d = x_train.shape[1]\n",
    "mu = numpy.mean(x_train, axis=0).reshape(1, d)\n",
    "sig = numpy.std(x_train, axis=0).reshape(1, d)\n",
    "\n",
    "# transform the training features\n",
    "x_train = (x_train - mu) / (sig + 1E-6)\n",
    "\n",
    "# transform the test features\n",
    "x_test = (x_test - mu) / (sig + 1E-6)\n",
    "\n",
    "print('test mean = ')\n",
    "print(numpy.mean(x_test, axis=0))\n",
    "\n",
    "print('test std = ')\n",
    "print(numpy.std(x_test, axis=0))"
   ]
  },
  {
   "cell_type": "markdown",
   "metadata": {},
   "source": [
    "## 1.4. Add a dimension of all ones"
   ]
  },
  {
   "cell_type": "code",
   "execution_count": 5,
   "metadata": {},
   "outputs": [
    {
     "name": "stdout",
     "output_type": "stream",
     "text": [
      "Shape of x_train: (640, 9)\n",
      "Shape of x_test: (128, 9)\n"
     ]
    }
   ],
   "source": [
    "n_train, d = x_train.shape\n",
    "x_train = numpy.concatenate((x_train, numpy.ones((n_train, 1))), axis=1)\n",
    "\n",
    "n_test, d = x_test.shape\n",
    "x_test = numpy.concatenate((x_test, numpy.ones((n_test, 1))), axis=1)\n",
    "\n",
    "print('Shape of x_train: ' + str(x_train.shape))\n",
    "print('Shape of x_test: ' + str(x_test.shape))"
   ]
  },
  {
   "cell_type": "markdown",
   "metadata": {},
   "source": [
    "# 2. Logistic regression model\n",
    "\n",
    "The objective function is $Q (w; X, y) = \\frac{1}{n} \\sum_{i=1}^n \\log \\Big( 1 + \\exp \\big( - y_i x_i^T w \\big) \\Big) + \\frac{\\lambda}{2} \\| w \\|_2^2 $."
   ]
  },
  {
   "cell_type": "code",
   "execution_count": 6,
   "metadata": {},
   "outputs": [],
   "source": [
    "# Calculate the objective function value\n",
    "# Inputs:\n",
    "#     w: d-by-1 matrix\n",
    "#     x: n-by-d matrix\n",
    "#     y: n-by-1 matrix\n",
    "#     lam: scalar, the regularization parameter\n",
    "# Return:\n",
    "#     objective function value (scalar)\n",
    "def objective(w, x, y, lam):\n",
    "    n, d = x.shape\n",
    "    yx = numpy.multiply(y, x) # n-by-d matrix\n",
    "    yxw = numpy.dot(yx, w) # n-by-1 matrix\n",
    "    vec1 = numpy.exp(-yxw) # n-by-1 matrix\n",
    "    vec2 = numpy.log(1 + vec1) # n-by-1 matrix\n",
    "    loss = numpy.mean(vec2) # scalar\n",
    "    reg = lam / 2 * numpy.sum(w * w) # scalar\n",
    "    return loss + reg\n",
    "    "
   ]
  },
  {
   "cell_type": "code",
   "execution_count": 7,
   "metadata": {},
   "outputs": [
    {
     "name": "stdout",
     "output_type": "stream",
     "text": [
      "Initial objective function value = 0.6931471805599453\n"
     ]
    }
   ],
   "source": [
    "# initialize w\n",
    "d = x_train.shape[1]\n",
    "w = numpy.zeros((d, 1))\n",
    "\n",
    "# evaluate the objective function value at w\n",
    "lam = 1E-6\n",
    "objval0 = objective(w, x_train, y_train, lam)\n",
    "print('Initial objective function value = ' + str(objval0))"
   ]
  },
  {
   "cell_type": "markdown",
   "metadata": {},
   "source": [
    "# 3. Numerical optimization"
   ]
  },
  {
   "cell_type": "markdown",
   "metadata": {},
   "source": [
    "## 3.1. Gradient descent\n"
   ]
  },
  {
   "cell_type": "markdown",
   "metadata": {},
   "source": [
    "The gradient at $w$ is $g = - \\frac{1}{n} \\sum_{i=1}^n \\frac{y_i x_i }{1 + \\exp ( y_i x_i^T w)} + \\lambda w$"
   ]
  },
  {
   "cell_type": "code",
   "execution_count": 8,
   "metadata": {},
   "outputs": [],
   "source": [
    "# Calculate the gradient\n",
    "# Inputs:\n",
    "#     w: d-by-1 matrix\n",
    "#     x: n-by-d matrix\n",
    "#     y: n-by-1 matrix\n",
    "#     lam: scalar, the regularization parameter\n",
    "# Return:\n",
    "#     g: g: d-by-1 matrix, full gradient\n",
    "def gradient(w, x, y, lam):\n",
    "    n, d = x.shape\n",
    "    yx = numpy.multiply(y, x) # n-by-d matrix\n",
    "    yxw = numpy.dot(yx, w) # n-by-1 matrix\n",
    "    vec1 = numpy.exp(yxw) # n-by-1 matrix\n",
    "    vec2 = numpy.divide(yx, 1+vec1) # n-by-d matrix\n",
    "    vec3 = -numpy.mean(vec2, axis=0).reshape(d, 1) # d-by-1 matrix\n",
    "    g = vec3 + lam * w\n",
    "    return g"
   ]
  },
  {
   "cell_type": "code",
   "execution_count": 9,
   "metadata": {},
   "outputs": [],
   "source": [
    "# Gradient descent for solving logistic regression\n",
    "# Inputs:\n",
    "#     x: n-by-d matrix\n",
    "#     y: n-by-1 matrix\n",
    "#     lam: scalar, the regularization parameter\n",
    "#     stepsize: scalar\n",
    "#     max_iter: integer, the maximal iterations\n",
    "#     w: d-by-1 matrix, initialization of w\n",
    "# Return:\n",
    "#     w: d-by-1 matrix, the solution\n",
    "#     objvals: a record of each iteration's objective value\n",
    "def grad_descent(x, y, lam, stepsize, max_iter=100, w=None):\n",
    "    n, d = x.shape\n",
    "    objvals = numpy.zeros(max_iter) # store the objective values\n",
    "    if w is None:\n",
    "        w = numpy.zeros((d, 1)) # zero initialization\n",
    "    \n",
    "    for t in range(max_iter):\n",
    "        objval = objective(w, x, y, lam)\n",
    "        objvals[t] = objval\n",
    "        print('Objective value at t=' + str(t) + ' is ' + str(objval))\n",
    "        g = gradient(w, x, y, lam)\n",
    "        w -= stepsize * g\n",
    "    \n",
    "    return w, objvals"
   ]
  },
  {
   "cell_type": "markdown",
   "metadata": {},
   "source": [
    "Run gradient descent."
   ]
  },
  {
   "cell_type": "code",
   "execution_count": 10,
   "metadata": {},
   "outputs": [
    {
     "name": "stdout",
     "output_type": "stream",
     "text": [
      "Objective value at t=0 is 0.6931471805599453\n",
      "Objective value at t=1 is 0.5888042149615449\n",
      "Objective value at t=2 is 0.5452442110108814\n",
      "Objective value at t=3 is 0.5217925443441978\n",
      "Objective value at t=4 is 0.5072307403083615\n",
      "Objective value at t=5 is 0.49743781607585563\n",
      "Objective value at t=6 is 0.4905195089011253\n",
      "Objective value at t=7 is 0.48546666300959695\n",
      "Objective value at t=8 is 0.4816859261782924\n",
      "Objective value at t=9 is 0.4788039260101659\n",
      "Objective value at t=10 is 0.4765740487672644\n",
      "Objective value at t=11 is 0.4748274181792882\n",
      "Objective value at t=12 is 0.4734451013361327\n",
      "Objective value at t=13 is 0.47234142107499993\n",
      "Objective value at t=14 is 0.47145348403297194\n",
      "Objective value at t=15 is 0.4707343759563938\n",
      "Objective value at t=16 is 0.47014861312463174\n",
      "Objective value at t=17 is 0.46966902929472915\n",
      "Objective value at t=18 is 0.4692746017264936\n",
      "Objective value at t=19 is 0.46894890606683315\n",
      "Objective value at t=20 is 0.46867900093375875\n",
      "Objective value at t=21 is 0.4684546113691755\n",
      "Objective value at t=22 is 0.4682675234831319\n",
      "Objective value at t=23 is 0.46811113048534286\n",
      "Objective value at t=24 is 0.4679800886600335\n",
      "Objective value at t=25 is 0.4678700541469277\n",
      "Objective value at t=26 is 0.46777747977107154\n",
      "Objective value at t=27 is 0.46769945695260967\n",
      "Objective value at t=28 is 0.46763359177915764\n",
      "Objective value at t=29 is 0.4675779071941518\n",
      "Objective value at t=30 is 0.467530765311996\n",
      "Objective value at t=31 is 0.46749080536118126\n",
      "Objective value at t=32 is 0.46745689384700845\n",
      "Objective value at t=33 is 0.4674280843309151\n",
      "Objective value at t=34 is 0.4674035848235389\n",
      "Objective value at t=35 is 0.4673827312395531\n",
      "Objective value at t=36 is 0.46736496570379144\n",
      "Objective value at t=37 is 0.46734981875868736\n",
      "Objective value at t=38 is 0.4673368947231955\n",
      "Objective value at t=39 is 0.4673258596081331\n",
      "Objective value at t=40 is 0.4673164311133145\n",
      "Objective value at t=41 is 0.4673083703261113\n",
      "Objective value at t=42 is 0.46730147481525813\n",
      "Objective value at t=43 is 0.46729557287241685\n",
      "Objective value at t=44 is 0.4672905187006694\n",
      "Objective value at t=45 is 0.4672861883863829\n",
      "Objective value at t=46 is 0.46728247652078114\n",
      "Objective value at t=47 is 0.4672792933616452\n",
      "Objective value at t=48 is 0.4672765624450364\n",
      "Objective value at t=49 is 0.46727421857273693\n",
      "Objective value at t=50 is 0.46727220611398224\n",
      "Objective value at t=51 is 0.4672704775705672\n",
      "Objective value at t=52 is 0.46726899236303304\n",
      "Objective value at t=53 is 0.46726771580272214\n",
      "Objective value at t=54 is 0.4672666182203272\n",
      "Objective value at t=55 is 0.4672656742263839\n",
      "Objective value at t=56 is 0.46726486208314993\n",
      "Objective value at t=57 is 0.467264163170633\n",
      "Objective value at t=58 is 0.46726356153228377\n",
      "Objective value at t=59 is 0.46726304348817205\n",
      "Objective value at t=60 is 0.46726259730538505\n",
      "Objective value at t=61 is 0.467262212916989\n",
      "Objective value at t=62 is 0.4672618816822461\n",
      "Objective value at t=63 is 0.4672615961819044\n",
      "Objective value at t=64 is 0.4672613500433304\n",
      "Objective value at t=65 is 0.46726113779105105\n",
      "Objective value at t=66 is 0.4672609547189468\n",
      "Objective value at t=67 is 0.46726079678090476\n",
      "Objective value at t=68 is 0.467260660497222\n",
      "Objective value at t=69 is 0.46726054287445357\n",
      "Objective value at t=70 is 0.46726044133674516\n",
      "Objective value at t=71 is 0.4672603536669795\n",
      "Objective value at t=72 is 0.4672602779563154\n",
      "Objective value at t=73 is 0.4672602125609054\n",
      "Objective value at t=74 is 0.4672601560647573\n",
      "Objective value at t=75 is 0.4672601072478571\n",
      "Objective value at t=76 is 0.46726006505879764\n",
      "Objective value at t=77 is 0.467260028591269\n",
      "Objective value at t=78 is 0.4672599970638609\n",
      "Objective value at t=79 is 0.4672599698027017\n",
      "Objective value at t=80 is 0.4672599462265349\n",
      "Objective value at t=81 is 0.4672599258338856\n",
      "Objective value at t=82 is 0.4672599081920217\n",
      "Objective value at t=83 is 0.46725989292745473\n",
      "Objective value at t=84 is 0.4672598797177666\n",
      "Objective value at t=85 is 0.4672598682845719\n",
      "Objective value at t=86 is 0.46725985838745926\n",
      "Objective value at t=87 is 0.4672598498187728\n",
      "Objective value at t=88 is 0.4672598423991161\n",
      "Objective value at t=89 is 0.4672598359734796\n",
      "Objective value at t=90 is 0.46725983040790087\n",
      "Objective value at t=91 is 0.46725982558658713\n",
      "Objective value at t=92 is 0.4672598214094343\n",
      "Objective value at t=93 is 0.4672598177898863\n",
      "Objective value at t=94 is 0.4672598146530892\n",
      "Objective value at t=95 is 0.4672598119342987\n",
      "Objective value at t=96 is 0.46725980957750607\n",
      "Objective value at t=97 is 0.46725980753425134\n",
      "Objective value at t=98 is 0.4672598057625999\n",
      "Objective value at t=99 is 0.467259804226258\n"
     ]
    }
   ],
   "source": [
    "lam = 1E-6\n",
    "stepsize = 1.0\n",
    "w, objvals_gd = grad_descent(x_train, y_train, lam, stepsize)"
   ]
  },
  {
   "cell_type": "markdown",
   "metadata": {},
   "source": [
    "## 3.2. Stochastic gradient descent (SGD)\n",
    "\n",
    "Define $Q_i (w) = \\log \\Big( 1 + \\exp \\big( - y_i x_i^T w \\big) \\Big) + \\frac{\\lambda}{2} \\| w \\|_2^2 $.\n",
    "\n",
    "The stochastic gradient at $w$ is $g_i = \\frac{\\partial Q_i }{ \\partial w} = -\\frac{y_i x_i }{1 + \\exp ( y_i x_i^T w)} + \\lambda w$."
   ]
  },
  {
   "cell_type": "code",
   "execution_count": 11,
   "metadata": {},
   "outputs": [],
   "source": [
    "# Calculate the objective Q_i and the gradient of Q_i\n",
    "# Inputs:\n",
    "#     w: d-by-1 matrix\n",
    "#     xi: 1-by-d matrix\n",
    "#     yi: scalar\n",
    "#     lam: scalar, the regularization parameter\n",
    "# Return:\n",
    "#     obj: scalar, the objective Q_i\n",
    "#     g: d-by-1 matrix, gradient of Q_i\n",
    "def stochastic_objective_gradient(w, xi, yi, lam):\n",
    "    d = xi.shape[0]\n",
    "    yx = yi * xi # 1-by-d matrix\n",
    "    yxw = float(numpy.dot(yx, w)) # scalar\n",
    "    \n",
    "    # calculate objective function Q_i\n",
    "    loss = numpy.log(1 + numpy.exp(-yxw)) # scalar\n",
    "    reg = lam / 2 * numpy.sum(w * w) # scalar\n",
    "    obj = loss + reg\n",
    "    \n",
    "    # calculate stochastic gradient\n",
    "    g_loss = -yx.T / (1 + numpy.exp(yxw)) # d-by-1 matrix\n",
    "    g = g_loss + lam * w # d-by-1 matrix\n",
    "    \n",
    "    return obj, g"
   ]
  },
  {
   "cell_type": "code",
   "execution_count": 12,
   "metadata": {},
   "outputs": [],
   "source": [
    "# SGD for solving logistic regression\n",
    "# Inputs:\n",
    "#     x: n-by-d matrix\n",
    "#     y: n-by-1 matrix\n",
    "#     lam: scalar, the regularization parameter\n",
    "#     stepsize: scalar\n",
    "#     max_epoch: integer, the maximal epochs\n",
    "#     w: d-by-1 matrix, initialization of w\n",
    "# Return:\n",
    "#     w: the solution\n",
    "#     objvals: record of each iteration's objective value\n",
    "def sgd(x, y, lam, stepsize, max_epoch=100, w=None):\n",
    "    n, d = x.shape\n",
    "    objvals = numpy.zeros(max_epoch) # store the objective values\n",
    "    if w is None:\n",
    "        w = numpy.zeros((d, 1)) # zero initialization\n",
    "    \n",
    "    for t in range(max_epoch):\n",
    "        # randomly shuffle the samples\n",
    "        rand_indices = numpy.random.permutation(n)\n",
    "        x_rand = x[rand_indices, :]\n",
    "        y_rand = y[rand_indices, :]\n",
    "        \n",
    "        objval = 0 # accumulate the objective values\n",
    "        for i in range(n):\n",
    "            xi = x_rand[i, :] # 1-by-d matrix\n",
    "            yi = float(y_rand[i, :]) # scalar\n",
    "            obj, g = stochastic_objective_gradient(w, xi, yi, lam)\n",
    "            objval += obj\n",
    "            w -= stepsize * g\n",
    "        \n",
    "        stepsize *= 0.9 # decrease step size\n",
    "        objval /= n\n",
    "        objvals[t] = objval\n",
    "        print('Objective value at epoch t=' + str(t) + ' is ' + str(objval))\n",
    "    \n",
    "    return w, objvals"
   ]
  },
  {
   "cell_type": "markdown",
   "metadata": {},
   "source": [
    "Run SGD."
   ]
  },
  {
   "cell_type": "code",
   "execution_count": 13,
   "metadata": {},
   "outputs": [
    {
     "name": "stdout",
     "output_type": "stream",
     "text": [
      "Objective value at epoch t=0 is 0.5233315229536548\n",
      "Objective value at epoch t=1 is 0.5081047227442579\n",
      "Objective value at epoch t=2 is 0.5086684563189279\n",
      "Objective value at epoch t=3 is 0.5052699847266726\n",
      "Objective value at epoch t=4 is 0.4968255285187569\n",
      "Objective value at epoch t=5 is 0.49977571939960175\n",
      "Objective value at epoch t=6 is 0.49402968336243536\n",
      "Objective value at epoch t=7 is 0.4948320602338946\n",
      "Objective value at epoch t=8 is 0.48887070851529735\n",
      "Objective value at epoch t=9 is 0.4884674912852064\n",
      "Objective value at epoch t=10 is 0.48823490080645726\n",
      "Objective value at epoch t=11 is 0.48543649262036104\n",
      "Objective value at epoch t=12 is 0.4840525581881323\n",
      "Objective value at epoch t=13 is 0.4772169189951643\n",
      "Objective value at epoch t=14 is 0.48015922700114055\n",
      "Objective value at epoch t=15 is 0.47850397389020005\n",
      "Objective value at epoch t=16 is 0.4789842501407877\n",
      "Objective value at epoch t=17 is 0.4764016603027577\n",
      "Objective value at epoch t=18 is 0.4764877326576955\n",
      "Objective value at epoch t=19 is 0.47538396600126925\n",
      "Objective value at epoch t=20 is 0.4744735903359665\n",
      "Objective value at epoch t=21 is 0.4743376480048774\n",
      "Objective value at epoch t=22 is 0.47333596052219534\n",
      "Objective value at epoch t=23 is 0.4730501422836433\n",
      "Objective value at epoch t=24 is 0.472467445406582\n",
      "Objective value at epoch t=25 is 0.4720345720323734\n",
      "Objective value at epoch t=26 is 0.47148144372409123\n",
      "Objective value at epoch t=27 is 0.4711369943929752\n",
      "Objective value at epoch t=28 is 0.47095880899259396\n",
      "Objective value at epoch t=29 is 0.47056643557854827\n",
      "Objective value at epoch t=30 is 0.47007871037707794\n",
      "Objective value at epoch t=31 is 0.4697427893868212\n",
      "Objective value at epoch t=32 is 0.4696343190788565\n",
      "Objective value at epoch t=33 is 0.46934773817133724\n",
      "Objective value at epoch t=34 is 0.46900972781038697\n",
      "Objective value at epoch t=35 is 0.4690391456756573\n",
      "Objective value at epoch t=36 is 0.46873222681074\n",
      "Objective value at epoch t=37 is 0.4687087601338285\n",
      "Objective value at epoch t=38 is 0.4685299303476915\n",
      "Objective value at epoch t=39 is 0.46842954419405886\n",
      "Objective value at epoch t=40 is 0.4683166502613691\n",
      "Objective value at epoch t=41 is 0.4681884139814736\n",
      "Objective value at epoch t=42 is 0.468121914273708\n",
      "Objective value at epoch t=43 is 0.4680305180007577\n",
      "Objective value at epoch t=44 is 0.4679471235663324\n",
      "Objective value at epoch t=45 is 0.4678858497977084\n",
      "Objective value at epoch t=46 is 0.46782971336416834\n",
      "Objective value at epoch t=47 is 0.46776774290873596\n",
      "Objective value at epoch t=48 is 0.4677178311739222\n",
      "Objective value at epoch t=49 is 0.4676747291493163\n",
      "Objective value at epoch t=50 is 0.4676309555968878\n",
      "Objective value at epoch t=51 is 0.4675964311739188\n",
      "Objective value at epoch t=52 is 0.46756287127787904\n",
      "Objective value at epoch t=53 is 0.46753225893549477\n",
      "Objective value at epoch t=54 is 0.4675055412922978\n",
      "Objective value at epoch t=55 is 0.467481564188884\n",
      "Objective value at epoch t=56 is 0.46745885689486794\n",
      "Objective value at epoch t=57 is 0.46743926619890824\n",
      "Objective value at epoch t=58 is 0.46742105379994586\n",
      "Objective value at epoch t=59 is 0.4674054545697797\n",
      "Objective value at epoch t=60 is 0.467390462333125\n",
      "Objective value at epoch t=61 is 0.46737776792817626\n",
      "Objective value at epoch t=62 is 0.46736614458259285\n",
      "Objective value at epoch t=63 is 0.46735547985077835\n",
      "Objective value at epoch t=64 is 0.4673459914893988\n",
      "Objective value at epoch t=65 is 0.46733743622678847\n",
      "Objective value at epoch t=66 is 0.4673296767245909\n",
      "Objective value at epoch t=67 is 0.4673227865579733\n",
      "Objective value at epoch t=68 is 0.4673164933963855\n",
      "Objective value at epoch t=69 is 0.46731091683354553\n",
      "Objective value at epoch t=70 is 0.4673058148657421\n",
      "Objective value at epoch t=71 is 0.4673012990217874\n",
      "Objective value at epoch t=72 is 0.4672971832380043\n",
      "Objective value at epoch t=73 is 0.4672934762157596\n",
      "Objective value at epoch t=74 is 0.4672901458854075\n",
      "Objective value at epoch t=75 is 0.4672871620039709\n",
      "Objective value at epoch t=76 is 0.46728447492204445\n",
      "Objective value at epoch t=77 is 0.4672820515412698\n",
      "Objective value at epoch t=78 is 0.46727987717118413\n",
      "Objective value at epoch t=79 is 0.46727790513789147\n",
      "Objective value at epoch t=80 is 0.46727614375314985\n",
      "Objective value at epoch t=81 is 0.4672745513626498\n",
      "Objective value at epoch t=82 is 0.4672731233737963\n",
      "Objective value at epoch t=83 is 0.46727183354246105\n",
      "Objective value at epoch t=84 is 0.4672706739292557\n",
      "Objective value at epoch t=85 is 0.4672696288842005\n",
      "Objective value at epoch t=86 is 0.4672686903184635\n",
      "Objective value at epoch t=87 is 0.46726784517191355\n",
      "Objective value at epoch t=88 is 0.46726708371659526\n",
      "Objective value at epoch t=89 is 0.46726639852517404\n",
      "Objective value at epoch t=90 is 0.46726578272189634\n",
      "Objective value at epoch t=91 is 0.46726522767869794\n",
      "Objective value at epoch t=92 is 0.4672647279172727\n",
      "Objective value at epoch t=93 is 0.46726427903358125\n",
      "Objective value at epoch t=94 is 0.4672638743749872\n",
      "Objective value at epoch t=95 is 0.46726350979402653\n",
      "Objective value at epoch t=96 is 0.4672631825988439\n",
      "Objective value at epoch t=97 is 0.4672628878148334\n",
      "Objective value at epoch t=98 is 0.46726262227338156\n",
      "Objective value at epoch t=99 is 0.46726238347818666\n"
     ]
    }
   ],
   "source": [
    "lam = 1E-6\n",
    "stepsize = 0.1\n",
    "w, objvals_sgd = sgd(x_train, y_train, lam, stepsize)"
   ]
  },
  {
   "cell_type": "markdown",
   "metadata": {},
   "source": [
    "# 4. Compare GD with SGD\n",
    "\n",
    "Plot objective function values against epochs."
   ]
  },
  {
   "cell_type": "code",
   "execution_count": 14,
   "metadata": {},
   "outputs": [
    {
     "name": "stderr",
     "output_type": "stream",
     "text": [
      "/Users/wangchenxu/opt/anaconda3/envs/tensorflow/lib/python3.7/site-packages/ipykernel_launcher.py:9: MatplotlibDeprecationWarning: Case-insensitive properties were deprecated in 3.3 and support will be removed two minor releases later\n",
      "  if __name__ == '__main__':\n",
      "/Users/wangchenxu/opt/anaconda3/envs/tensorflow/lib/python3.7/site-packages/ipykernel_launcher.py:10: MatplotlibDeprecationWarning: Case-insensitive properties were deprecated in 3.3 and support will be removed two minor releases later\n",
      "  # Remove the CWD from sys.path while we load stuff.\n",
      "/Users/wangchenxu/opt/anaconda3/envs/tensorflow/lib/python3.7/site-packages/ipykernel_launcher.py:11: MatplotlibDeprecationWarning: Case-insensitive properties were deprecated in 3.3 and support will be removed two minor releases later\n",
      "  # This is added back by InteractiveShellApp.init_path()\n",
      "/Users/wangchenxu/opt/anaconda3/envs/tensorflow/lib/python3.7/site-packages/ipykernel_launcher.py:12: MatplotlibDeprecationWarning: Case-insensitive properties were deprecated in 3.3 and support will be removed two minor releases later\n",
      "  if sys.path[0] == '':\n",
      "/Users/wangchenxu/opt/anaconda3/envs/tensorflow/lib/python3.7/site-packages/ipykernel_launcher.py:13: MatplotlibDeprecationWarning: Case-insensitive properties were deprecated in 3.3 and support will be removed two minor releases later\n",
      "  del sys.path[0]\n",
      "/Users/wangchenxu/opt/anaconda3/envs/tensorflow/lib/python3.7/site-packages/ipykernel_launcher.py:14: MatplotlibDeprecationWarning: Case-insensitive properties were deprecated in 3.3 and support will be removed two minor releases later\n",
      "  \n"
     ]
    },
    {
     "data": {
      "image/png": "[encoded data removed]",
      "text/plain": [
       "<Figure size 432x288 with 1 Axes>"
      ]
     },
     "metadata": {
      "needs_background": "light"
     },
     "output_type": "display_data"
    }
   ],
   "source": [
    "import matplotlib.pyplot as plt\n",
    "%matplotlib inline\n",
    "\n",
    "fig = plt.figure(figsize=(6, 4))\n",
    "\n",
    "epochs_gd = range(len(objvals_gd))\n",
    "epochs_sgd = range(len(objvals_sgd))\n",
    "\n",
    "line0, = plt.plot(epochs_gd, objvals_gd, '--b', LineWidth=4)\n",
    "line1, = plt.plot(epochs_sgd, objvals_sgd, '-r', LineWidth=2)\n",
    "plt.xlabel('Epochs', FontSize=20)\n",
    "plt.ylabel('Objective Value', FontSize=20)\n",
    "plt.xticks(FontSize=16)\n",
    "plt.yticks(FontSize=16)\n",
    "plt.legend([line0, line1], ['GD', 'SGD'], fontsize=20)\n",
    "plt.tight_layout()\n",
    "plt.show()\n",
    "fig.savefig('compare_gd_sgd.pdf', format='pdf', dpi=1200)"
   ]
  },
  {
   "cell_type": "markdown",
   "metadata": {},
   "source": [
    "# 5. Prediction"
   ]
  },
  {
   "cell_type": "code",
   "execution_count": 15,
   "metadata": {},
   "outputs": [],
   "source": [
    "# Predict class label\n",
    "# Inputs:\n",
    "#     w: d-by-1 matrix\n",
    "#     X: m-by-d matrix\n",
    "# Return:\n",
    "#     f: m-by-1 matrix, the predictions\n",
    "def predict(w, X):\n",
    "    xw = numpy.dot(X, w)\n",
    "    f = numpy.sign(xw)\n",
    "    return f"
   ]
  },
  {
   "cell_type": "code",
   "execution_count": 16,
   "metadata": {},
   "outputs": [
    {
     "name": "stdout",
     "output_type": "stream",
     "text": [
      "Training classification error is 0.21875\n"
     ]
    }
   ],
   "source": [
    "# evaluate training error\n",
    "f_train = predict(w, x_train)\n",
    "diff = numpy.abs(f_train - y_train) / 2\n",
    "error_train = numpy.mean(diff)\n",
    "print('Training classification error is ' + str(error_train))"
   ]
  },
  {
   "cell_type": "code",
   "execution_count": 17,
   "metadata": {},
   "outputs": [
    {
     "name": "stdout",
     "output_type": "stream",
     "text": [
      "Test classification error is 0.234375\n"
     ]
    }
   ],
   "source": [
    "# evaluate test error\n",
    "f_test = predict(w, x_test)\n",
    "diff = numpy.abs(f_test - y_test) / 2\n",
    "error_test = numpy.mean(diff)\n",
    "print('Test classification error is ' + str(error_test))"
   ]
  },
  {
   "cell_type": "markdown",
   "metadata": {},
   "source": [
    "# 6. Mini-batch SGD (fill the code)\n",
    "\n"
   ]
  },
  {
   "cell_type": "markdown",
   "metadata": {},
   "source": [
    "## 6.1. Compute the objective $Q_I$ and its gradient using a batch of samples\n",
    "\n",
    "Define $Q_I (w) = \\frac{1}{b} \\sum_{i \\in I} \\log \\Big( 1 + \\exp \\big( - y_i x_i^T w \\big) \\Big) + \\frac{\\lambda}{2} \\| w \\|_2^2 $, where $I$ is a set containing $b$ indices randomly drawn from $\\{ 1, \\cdots , n \\}$ without replacement.\n",
    "\n",
    "The stochastic gradient at $w$ is $g_I = \\frac{\\partial Q_I }{ \\partial w} = \\frac{1}{b} \\sum_{i \\in I} \\frac{- y_i x_i }{1 + \\exp ( y_i x_i^T w)} + \\lambda w$."
   ]
  },
  {
   "cell_type": "code",
   "execution_count": 31,
   "metadata": {},
   "outputs": [],
   "source": [
    "# Calculate the objective Q_I and the gradient of Q_I\n",
    "# Inputs:\n",
    "#     w: d-by-1 matrix\n",
    "#     xi: b-by-d matrix\n",
    "#     yi: b-by-1 matrix\n",
    "#     lam: scalar, the regularization parameter\n",
    "#     b: integer, the batch size\n",
    "# Return:\n",
    "#     obj: scalar, the objective Q_i\n",
    "#     g: d-by-1 matrix, gradient of Q_i\n",
    "def mb_stochastic_objective_gradient(w, xi, yi, lam, b):\n",
    "    # Fill the function\n",
    "    # Follow the implementation of stochastic_objective_gradient\n",
    "    # Use matrix-vector multiplication; do not use FOR LOOP of vector-vector multiplications\n",
    "    \n",
    "    n,d = xi.shape\n",
    "    yx = numpy.multiply(yi, xi) # b-by-d matrix\n",
    "    yxw = numpy.dot(yx, w) # b-by-1 matrix\n",
    "    \n",
    "    # calculate objective function Q_I\n",
    "    vec = numpy.log(1 + numpy.exp(-yxw)) # b-by-1 matrix\n",
    "    loss = numpy.mean(vec) # scalar\n",
    "    \n",
    "    reg = lam / 2 * numpy.sum(w * w) # scalar\n",
    "    obj = loss + reg # scalar\n",
    "    \n",
    "    # calculate MB stochastic gradient\n",
    "    vec1 = numpy.exp(yxw) # b-by-1 matrix\n",
    "    vec2 = numpy.divide(yx, 1+ vec1) # b-by-d matrix\n",
    "    g_loss = - numpy.mean(vec2, axis = 0).reshape(d,1) # d-by-1 matrix\n",
    "    g = g_loss + lam * w # d-by-1 matrix\n",
    "    \n",
    "    return obj, g"
   ]
  },
  {
   "cell_type": "markdown",
   "metadata": {},
   "source": [
    "## 6.2. Implement mini-batch SGD\n",
    "\n",
    "Hints:\n",
    "1. In every epoch, randomly permute the $n$ samples (just like SGD).\n",
    "2. Each epoch has $\\frac{n}{b}$ iterations. In every iteration, use $b$ samples, and compute the gradient and objective using the ``mb_stochastic_objective_gradient`` function. In the next iteration, use the next $b$ samples, and so on.\n"
   ]
  },
  {
   "cell_type": "code",
   "execution_count": 32,
   "metadata": {},
   "outputs": [],
   "source": [
    "# Mini-Batch SGD for solving logistic regression\n",
    "# Inputs:\n",
    "#     x: n-by-d matrix\n",
    "#     y: n-by-1 matrix\n",
    "#     lam: scalar, the regularization parameter\n",
    "#     b: integer, the batch size\n",
    "#     stepsize: scalar\n",
    "#     max_epoch: integer, the maximal epochs\n",
    "#     w: d-by-1 matrix, initialization of w\n",
    "# Return:\n",
    "#     w: the solution\n",
    "#     objvals: record of each iteration's objective value\n",
    "def mb_sgd(x, y, lam, b, stepsize, max_epoch=100, w=None):\n",
    "    # Fill the function\n",
    "    # Follow the implementation of sgd\n",
    "    # Record one objective value per epoch (not per iteration!)\n",
    "    \n",
    "    n, d = x.shape\n",
    "    objvals = numpy.zeros(max_epoch) # store the objective values\n",
    "    if w is None:\n",
    "        w = numpy.zeros((d, 1)) # zero initialization\n",
    "    \n",
    "    for t in range(max_epoch):\n",
    "        # randomly shuffle the samples\n",
    "        rand_indices = numpy.random.permutation(n)\n",
    "        x_rand = x[rand_indices, :]\n",
    "        y_rand = y[rand_indices, :]\n",
    "        \n",
    "        objval = 0 # accumulate the objective values\n",
    "        for i in range(0, n, b):\n",
    "            xi = x_rand[i:i+b, :] # b-by-d matrix\n",
    "            yi = y_rand[i: i+b, :] # b-by-1 matrix\n",
    "            obj, g = mb_stochastic_objective_gradient(w, xi, yi, lam, b)\n",
    "            objval += obj\n",
    "            w -= stepsize * g\n",
    "        \n",
    "        stepsize *= 0.9 # decrease step size\n",
    "        objval /= n/b\n",
    "        objvals[t] = objval\n",
    "        print('Objective value at epoch t=' + str(t) + ' is ' + str(objval))\n",
    "    \n",
    "    return w, objvals"
   ]
  },
  {
   "cell_type": "markdown",
   "metadata": {},
   "source": [
    "## 6.3. Run MB-SGD"
   ]
  },
  {
   "cell_type": "code",
   "execution_count": 33,
   "metadata": {},
   "outputs": [
    {
     "name": "stdout",
     "output_type": "stream",
     "text": [
      "Objective value at epoch t=0 is 0.5406011587564215\n",
      "Objective value at epoch t=1 is 0.48160094709510687\n",
      "Objective value at epoch t=2 is 0.4761699240404157\n",
      "Objective value at epoch t=3 is 0.47430986666652386\n",
      "Objective value at epoch t=4 is 0.47238694930193176\n",
      "Objective value at epoch t=5 is 0.4721233667975664\n",
      "Objective value at epoch t=6 is 0.47088410283085746\n",
      "Objective value at epoch t=7 is 0.47091726254631505\n",
      "Objective value at epoch t=8 is 0.47072921650512844\n",
      "Objective value at epoch t=9 is 0.4703863799369886\n",
      "Objective value at epoch t=10 is 0.47020029036427397\n",
      "Objective value at epoch t=11 is 0.4695588144039159\n",
      "Objective value at epoch t=12 is 0.4693700515952515\n",
      "Objective value at epoch t=13 is 0.4694022430868426\n",
      "Objective value at epoch t=14 is 0.46941608426416515\n",
      "Objective value at epoch t=15 is 0.46881461426796045\n",
      "Objective value at epoch t=16 is 0.46885063495559454\n",
      "Objective value at epoch t=17 is 0.4686311272168213\n",
      "Objective value at epoch t=18 is 0.46850330178612304\n",
      "Objective value at epoch t=19 is 0.4684339893457021\n",
      "Objective value at epoch t=20 is 0.4682783069942424\n",
      "Objective value at epoch t=21 is 0.4682293948679982\n",
      "Objective value at epoch t=22 is 0.4682051143903072\n",
      "Objective value at epoch t=23 is 0.4681314145826955\n",
      "Objective value at epoch t=24 is 0.46790004170987237\n",
      "Objective value at epoch t=25 is 0.46790895549303774\n",
      "Objective value at epoch t=26 is 0.467809031887915\n",
      "Objective value at epoch t=27 is 0.4677766272065578\n",
      "Objective value at epoch t=28 is 0.46775052781164134\n",
      "Objective value at epoch t=29 is 0.467667128414606\n",
      "Objective value at epoch t=30 is 0.46761520036781246\n",
      "Objective value at epoch t=31 is 0.4676125757895725\n",
      "Objective value at epoch t=32 is 0.4675704333659313\n",
      "Objective value at epoch t=33 is 0.46751053318938646\n",
      "Objective value at epoch t=34 is 0.46753745178040323\n",
      "Objective value at epoch t=35 is 0.4674766042417537\n",
      "Objective value at epoch t=36 is 0.4674422988585344\n",
      "Objective value at epoch t=37 is 0.4674382893627495\n",
      "Objective value at epoch t=38 is 0.4674176974305861\n",
      "Objective value at epoch t=39 is 0.4674009513915872\n",
      "Objective value at epoch t=40 is 0.4673910022628595\n",
      "Objective value at epoch t=41 is 0.4673666466106843\n",
      "Objective value at epoch t=42 is 0.4673812106967049\n",
      "Objective value at epoch t=43 is 0.4673610253311141\n",
      "Objective value at epoch t=44 is 0.46735230208720296\n",
      "Objective value at epoch t=45 is 0.46734120621225383\n",
      "Objective value at epoch t=46 is 0.4673328503038525\n",
      "Objective value at epoch t=47 is 0.46732577412897036\n",
      "Objective value at epoch t=48 is 0.46732114023125576\n",
      "Objective value at epoch t=49 is 0.46731108220631795\n",
      "Objective value at epoch t=50 is 0.4673027709723029\n",
      "Objective value at epoch t=51 is 0.4673009118980997\n",
      "Objective value at epoch t=52 is 0.4672997759489223\n",
      "Objective value at epoch t=53 is 0.46729446402053043\n",
      "Objective value at epoch t=54 is 0.4672900830854432\n",
      "Objective value at epoch t=55 is 0.46728643300579675\n",
      "Objective value at epoch t=56 is 0.46728507653370677\n",
      "Objective value at epoch t=57 is 0.46728343862166277\n",
      "Objective value at epoch t=58 is 0.4672804982433466\n",
      "Objective value at epoch t=59 is 0.46727933971743224\n",
      "Objective value at epoch t=60 is 0.467277353661858\n",
      "Objective value at epoch t=61 is 0.46727471417014843\n",
      "Objective value at epoch t=62 is 0.4672733597571751\n",
      "Objective value at epoch t=63 is 0.4672716187413443\n",
      "Objective value at epoch t=64 is 0.46727061888428156\n",
      "Objective value at epoch t=65 is 0.4672706140150183\n",
      "Objective value at epoch t=66 is 0.4672691950360516\n",
      "Objective value at epoch t=67 is 0.4672678290947613\n",
      "Objective value at epoch t=68 is 0.46726725255837753\n",
      "Objective value at epoch t=69 is 0.46726673343614894\n",
      "Objective value at epoch t=70 is 0.4672660184331625\n",
      "Objective value at epoch t=71 is 0.4672653773551083\n",
      "Objective value at epoch t=72 is 0.4672646660924209\n",
      "Objective value at epoch t=73 is 0.46726428438619577\n",
      "Objective value at epoch t=74 is 0.4672637879440761\n",
      "Objective value at epoch t=75 is 0.4672631091562793\n",
      "Objective value at epoch t=76 is 0.46726322469461634\n",
      "Objective value at epoch t=77 is 0.4672629015271972\n",
      "Objective value at epoch t=78 is 0.46726266328899113\n",
      "Objective value at epoch t=79 is 0.4672624564182718\n",
      "Objective value at epoch t=80 is 0.467261938046757\n",
      "Objective value at epoch t=81 is 0.46726193340212446\n",
      "Objective value at epoch t=82 is 0.4672618861376631\n",
      "Objective value at epoch t=83 is 0.46726175386025304\n",
      "Objective value at epoch t=84 is 0.46726150589729737\n",
      "Objective value at epoch t=85 is 0.46726143739831894\n",
      "Objective value at epoch t=86 is 0.467261402214792\n",
      "Objective value at epoch t=87 is 0.46726118443780135\n",
      "Objective value at epoch t=88 is 0.4672610953072662\n",
      "Objective value at epoch t=89 is 0.4672609797196762\n",
      "Objective value at epoch t=90 is 0.4672609407783913\n",
      "Objective value at epoch t=91 is 0.46726079693661954\n",
      "Objective value at epoch t=92 is 0.46726079535302467\n",
      "Objective value at epoch t=93 is 0.46726072208943004\n",
      "Objective value at epoch t=94 is 0.4672606371272668\n",
      "Objective value at epoch t=95 is 0.4672606097152355\n",
      "Objective value at epoch t=96 is 0.46726058688939515\n",
      "Objective value at epoch t=97 is 0.467260560590893\n",
      "Objective value at epoch t=98 is 0.4672605458030922\n",
      "Objective value at epoch t=99 is 0.4672604851508602\n"
     ]
    }
   ],
   "source": [
    "# MB-SGD with batch size b=8\n",
    "lam = 1E-6 # do not change\n",
    "b = 8 # do not change\n",
    "stepsize = 0.1 # you must tune this parameter\n",
    "\n",
    "w, objvals_mbsgd8 = mb_sgd(x_train, y_train, lam, b, stepsize)"
   ]
  },
  {
   "cell_type": "code",
   "execution_count": 34,
   "metadata": {},
   "outputs": [
    {
     "name": "stdout",
     "output_type": "stream",
     "text": [
      "Objective value at epoch t=0 is 0.6473968867516431\n",
      "Objective value at epoch t=1 is 0.5819222499122523\n",
      "Objective value at epoch t=2 is 0.5492834475452286\n",
      "Objective value at epoch t=3 is 0.5302016912159856\n",
      "Objective value at epoch t=4 is 0.5180514612974714\n",
      "Objective value at epoch t=5 is 0.5096620512428801\n",
      "Objective value at epoch t=6 is 0.5036831257216149\n",
      "Objective value at epoch t=7 is 0.49918890087086015\n",
      "Objective value at epoch t=8 is 0.49576129440970373\n",
      "Objective value at epoch t=9 is 0.4930774188641095\n",
      "Objective value at epoch t=10 is 0.4907704419842614\n",
      "Objective value at epoch t=11 is 0.4892320116804731\n",
      "Objective value at epoch t=12 is 0.48757751462173593\n",
      "Objective value at epoch t=13 is 0.48629761622386686\n",
      "Objective value at epoch t=14 is 0.4853197855011947\n",
      "Objective value at epoch t=15 is 0.48443754290191876\n",
      "Objective value at epoch t=16 is 0.4836758114949212\n",
      "Objective value at epoch t=17 is 0.48300550014270377\n",
      "Objective value at epoch t=18 is 0.4825069304118319\n",
      "Objective value at epoch t=19 is 0.48201261756735575\n",
      "Objective value at epoch t=20 is 0.4815905054160018\n",
      "Objective value at epoch t=21 is 0.4812182166797737\n",
      "Objective value at epoch t=22 is 0.4809142391267282\n",
      "Objective value at epoch t=23 is 0.48064400529124224\n",
      "Objective value at epoch t=24 is 0.4803866776307567\n",
      "Objective value at epoch t=25 is 0.4802008370693741\n",
      "Objective value at epoch t=26 is 0.48001252835932495\n",
      "Objective value at epoch t=27 is 0.47982287692454406\n",
      "Objective value at epoch t=28 is 0.47966603916186407\n",
      "Objective value at epoch t=29 is 0.47954173970064273\n",
      "Objective value at epoch t=30 is 0.47943548775391276\n",
      "Objective value at epoch t=31 is 0.47932515817671373\n",
      "Objective value at epoch t=32 is 0.4792196945619187\n",
      "Objective value at epoch t=33 is 0.47913226315712587\n",
      "Objective value at epoch t=34 is 0.479059001670763\n",
      "Objective value at epoch t=35 is 0.478987740776131\n",
      "Objective value at epoch t=36 is 0.47893290909038316\n",
      "Objective value at epoch t=37 is 0.478879632523607\n",
      "Objective value at epoch t=38 is 0.4788291693992103\n",
      "Objective value at epoch t=39 is 0.47878703076454476\n",
      "Objective value at epoch t=40 is 0.47874385942233094\n",
      "Objective value at epoch t=41 is 0.4787109385291755\n",
      "Objective value at epoch t=42 is 0.47867485383243763\n",
      "Objective value at epoch t=43 is 0.4786543459377969\n",
      "Objective value at epoch t=44 is 0.47862697789088615\n",
      "Objective value at epoch t=45 is 0.47860267266685674\n",
      "Objective value at epoch t=46 is 0.4785845570751011\n",
      "Objective value at epoch t=47 is 0.4785636921233599\n",
      "Objective value at epoch t=48 is 0.47854892136822685\n",
      "Objective value at epoch t=49 is 0.4785335576346922\n",
      "Objective value at epoch t=50 is 0.4785204234293756\n",
      "Objective value at epoch t=51 is 0.4785082043109317\n",
      "Objective value at epoch t=52 is 0.4784986357518116\n",
      "Objective value at epoch t=53 is 0.47848982449056043\n",
      "Objective value at epoch t=54 is 0.47847965494650546\n",
      "Objective value at epoch t=55 is 0.4784714660306064\n",
      "Objective value at epoch t=56 is 0.478465203064583\n",
      "Objective value at epoch t=57 is 0.47845869239384725\n",
      "Objective value at epoch t=58 is 0.47845268241251837\n",
      "Objective value at epoch t=59 is 0.47844723295324176\n",
      "Objective value at epoch t=60 is 0.4784435625621242\n",
      "Objective value at epoch t=61 is 0.4784392884566306\n",
      "Objective value at epoch t=62 is 0.47843522766638047\n",
      "Objective value at epoch t=63 is 0.4784319929322585\n",
      "Objective value at epoch t=64 is 0.4784288453760145\n",
      "Objective value at epoch t=65 is 0.47842658624679546\n",
      "Objective value at epoch t=66 is 0.4784237422368334\n",
      "Objective value at epoch t=67 is 0.4784216177062518\n",
      "Objective value at epoch t=68 is 0.4784198800802205\n",
      "Objective value at epoch t=69 is 0.47841799724592543\n",
      "Objective value at epoch t=70 is 0.4784164127927598\n",
      "Objective value at epoch t=71 is 0.4784148597906001\n",
      "Objective value at epoch t=72 is 0.4784136815321469\n",
      "Objective value at epoch t=73 is 0.4784124275436433\n",
      "Objective value at epoch t=74 is 0.47841135902954585\n",
      "Objective value at epoch t=75 is 0.4784105707742425\n",
      "Objective value at epoch t=76 is 0.47840957002579004\n",
      "Objective value at epoch t=77 is 0.47840884637692815\n",
      "Objective value at epoch t=78 is 0.47840808388378564\n",
      "Objective value at epoch t=79 is 0.4784075932516849\n",
      "Objective value at epoch t=80 is 0.4784069995214713\n",
      "Objective value at epoch t=81 is 0.4784065791815353\n",
      "Objective value at epoch t=82 is 0.4784060269254692\n",
      "Objective value at epoch t=83 is 0.4784057050124312\n",
      "Objective value at epoch t=84 is 0.47840528945757566\n",
      "Objective value at epoch t=85 is 0.47840496611808814\n",
      "Objective value at epoch t=86 is 0.47840460110158134\n",
      "Objective value at epoch t=87 is 0.4784043866620006\n",
      "Objective value at epoch t=88 is 0.47840416935764907\n",
      "Objective value at epoch t=89 is 0.4784039272191028\n",
      "Objective value at epoch t=90 is 0.47840377440643495\n",
      "Objective value at epoch t=91 is 0.47840355312352106\n",
      "Objective value at epoch t=92 is 0.47840340733849757\n",
      "Objective value at epoch t=93 is 0.4784032751951354\n",
      "Objective value at epoch t=94 is 0.47840312990513134\n",
      "Objective value at epoch t=95 is 0.4784030145991812\n",
      "Objective value at epoch t=96 is 0.47840292117398464\n",
      "Objective value at epoch t=97 is 0.4784028321242103\n",
      "Objective value at epoch t=98 is 0.47840274284380396\n",
      "Objective value at epoch t=99 is 0.4784026672783045\n"
     ]
    }
   ],
   "source": [
    "# MB-SGD with batch size b=64\n",
    "lam = 1E-6 # do not change\n",
    "b = 64 # do not change\n",
    "stepsize = 0.1 # you must tune this parameter\n",
    "\n",
    "w, objvals_mbsgd64 = mb_sgd(x_train, y_train, lam, b, stepsize)"
   ]
  },
  {
   "cell_type": "markdown",
   "metadata": {},
   "source": [
    "# 7. Plot and compare GD, SGD, and MB-SGD"
   ]
  },
  {
   "cell_type": "markdown",
   "metadata": {},
   "source": [
    "You are required to compare the following algorithms:\n",
    "\n",
    "- Gradient descent (GD)\n",
    "\n",
    "- SGD\n",
    "\n",
    "- MB-SGD with b=8\n",
    "\n",
    "- MB-SGD with b=64\n",
    "\n",
    "Follow the code in Section 4 to plot ```objective function value``` against ```epochs```. There should be four curves in the plot; each curve corresponds to one algorithm."
   ]
  },
  {
   "cell_type": "markdown",
   "metadata": {},
   "source": [
    "Hint: Logistic regression with $\\ell_2$-norm regularization is a strongly convex optimization problem. All the algorithms will converge to the same solution. **In the end, the ``objective function value`` of the 4 algorithms will be the same. If not the same, your implementation must be wrong. Do NOT submit wrong code and wrong result!**"
   ]
  },
  {
   "cell_type": "code",
   "execution_count": 35,
   "metadata": {},
   "outputs": [
    {
     "name": "stderr",
     "output_type": "stream",
     "text": [
      "/Users/wangchenxu/opt/anaconda3/envs/tensorflow/lib/python3.7/site-packages/ipykernel_launcher.py:13: MatplotlibDeprecationWarning: Case-insensitive properties were deprecated in 3.3 and support will be removed two minor releases later\n",
      "  del sys.path[0]\n",
      "/Users/wangchenxu/opt/anaconda3/envs/tensorflow/lib/python3.7/site-packages/ipykernel_launcher.py:14: MatplotlibDeprecationWarning: Case-insensitive properties were deprecated in 3.3 and support will be removed two minor releases later\n",
      "  \n",
      "/Users/wangchenxu/opt/anaconda3/envs/tensorflow/lib/python3.7/site-packages/ipykernel_launcher.py:15: MatplotlibDeprecationWarning: Case-insensitive properties were deprecated in 3.3 and support will be removed two minor releases later\n",
      "  from ipykernel import kernelapp as app\n",
      "/Users/wangchenxu/opt/anaconda3/envs/tensorflow/lib/python3.7/site-packages/ipykernel_launcher.py:16: MatplotlibDeprecationWarning: Case-insensitive properties were deprecated in 3.3 and support will be removed two minor releases later\n",
      "  app.launch_new_instance()\n",
      "/Users/wangchenxu/opt/anaconda3/envs/tensorflow/lib/python3.7/site-packages/ipykernel_launcher.py:18: MatplotlibDeprecationWarning: Case-insensitive properties were deprecated in 3.3 and support will be removed two minor releases later\n",
      "/Users/wangchenxu/opt/anaconda3/envs/tensorflow/lib/python3.7/site-packages/ipykernel_launcher.py:19: MatplotlibDeprecationWarning: Case-insensitive properties were deprecated in 3.3 and support will be removed two minor releases later\n",
      "/Users/wangchenxu/opt/anaconda3/envs/tensorflow/lib/python3.7/site-packages/ipykernel_launcher.py:20: MatplotlibDeprecationWarning: Case-insensitive properties were deprecated in 3.3 and support will be removed two minor releases later\n",
      "/Users/wangchenxu/opt/anaconda3/envs/tensorflow/lib/python3.7/site-packages/ipykernel_launcher.py:21: MatplotlibDeprecationWarning: Case-insensitive properties were deprecated in 3.3 and support will be removed two minor releases later\n"
     ]
    },
    {
     "data": {
      "image/png": "[encoded data removed]",
      "text/plain": [
       "<Figure size 432x288 with 1 Axes>"
      ]
     },
     "metadata": {
      "needs_background": "light"
     },
     "output_type": "display_data"
    }
   ],
   "source": [
    "# plot the 4 curves:\n",
    "import matplotlib.pyplot as plt\n",
    "%matplotlib inline\n",
    "\n",
    "fig = plt.figure(figsize=(6, 4))\n",
    "\n",
    "epochs_gd = range(len(objvals_gd))\n",
    "epochs_sgd = range(len(objvals_sgd))\n",
    "epochs_mbsgd8 = range(len(objvals_mbsgd8))\n",
    "epochs_mbsgd64 = range(len(objvals_mbsgd64))\n",
    "\n",
    "\n",
    "line0, = plt.plot(epochs_gd, objvals_gd, '--b', LineWidth=4)\n",
    "line1, = plt.plot(epochs_sgd, objvals_sgd, '-r', LineWidth=2)\n",
    "line2, = plt.plot(epochs_mbsgd8, objvals_mbsgd8, '-g', LineWidth=2)\n",
    "line3, = plt.plot(epochs_mbsgd64, objvals_mbsgd64, '-y', LineWidth=2)\n",
    "\n",
    "plt.xlabel('Epochs', FontSize=20)\n",
    "plt.ylabel('Objective Value', FontSize=20)\n",
    "plt.xticks(FontSize=16)\n",
    "plt.yticks(FontSize=16)\n",
    "plt.legend([line0, line1, line2, line3], ['GD', 'SGD', \"mbSGD8\", \"mbSGD64\"], fontsize=20)\n",
    "plt.tight_layout()\n",
    "plt.show()\n",
    "fig.savefig('compare_gd_sgd.pdf', format='pdf', dpi=1200)"
   ]
  },
  {
   "cell_type": "markdown",
   "metadata": {},
   "source": [
    "1. According to the plot above, the best choice is Mini-batch SGD with cardinality b = 8. Mini-batch SGD would become the best method for optimization if there is a suitable cardinality b. \n",
    "2. In general, GD is not a good method for training since each epoch will use all of the samples. \n",
    "3. SGD is the special condition of Mini-batch SGD when the cardinalty b = 1. "
   ]
  },
  {
   "cell_type": "markdown",
   "metadata": {},
   "source": []
  }
 ],
 "metadata": {
  "kernelspec": {
   "display_name": "Python 3",
   "language": "python",
   "name": "python3"
  },
  "language_info": {
   "codemirror_mode": {
    "name": "ipython",
    "version": 3
   },
   "file_extension": ".py",
   "mimetype": "text/x-python",
   "name": "python",
   "nbconvert_exporter": "python",
   "pygments_lexer": "ipython3",
   "version": "3.7.9"
  }
 },
 "nbformat": 4,
 "nbformat_minor": 2
}
